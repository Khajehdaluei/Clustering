{
 "cells": [
  {
   "cell_type": "code",
   "execution_count": 4,
   "id": "ca7352e8",
   "metadata": {},
   "outputs": [],
   "source": [
    "import random\n",
    "import pandas as pd\n",
    "import numpy as np\n",
    "from sklearn import metrics\n",
    "from pyod.models import abod"
   ]
  },
  {
   "cell_type": "code",
   "execution_count": 2,
   "id": "3eb072fb",
   "metadata": {},
   "outputs": [
    {
     "name": "stdout",
     "output_type": "stream",
     "text": [
      "(10001, 30)\n",
      "\n",
      "(array([0, 1], dtype=int64), array([9986,   15], dtype=int64))\n",
      "\n",
      "Inbalance ratio (class0/class1) : 0.0017304750013189597\n",
      "\n"
     ]
    },
    {
     "data": {
      "text/html": [
       "<div>\n",
       "<style scoped>\n",
       "    .dataframe tbody tr th:only-of-type {\n",
       "        vertical-align: middle;\n",
       "    }\n",
       "\n",
       "    .dataframe tbody tr th {\n",
       "        vertical-align: top;\n",
       "    }\n",
       "\n",
       "    .dataframe thead th {\n",
       "        text-align: right;\n",
       "    }\n",
       "</style>\n",
       "<table border=\"1\" class=\"dataframe\">\n",
       "  <thead>\n",
       "    <tr style=\"text-align: right;\">\n",
       "      <th></th>\n",
       "      <th>Time</th>\n",
       "      <th>V1</th>\n",
       "      <th>V2</th>\n",
       "      <th>V3</th>\n",
       "      <th>V4</th>\n",
       "      <th>V5</th>\n",
       "      <th>V6</th>\n",
       "      <th>V7</th>\n",
       "      <th>V8</th>\n",
       "      <th>V9</th>\n",
       "      <th>...</th>\n",
       "      <th>V21</th>\n",
       "      <th>V22</th>\n",
       "      <th>V23</th>\n",
       "      <th>V24</th>\n",
       "      <th>V25</th>\n",
       "      <th>V26</th>\n",
       "      <th>V27</th>\n",
       "      <th>V28</th>\n",
       "      <th>Amount</th>\n",
       "      <th>Class</th>\n",
       "    </tr>\n",
       "  </thead>\n",
       "  <tbody>\n",
       "    <tr>\n",
       "      <th>0</th>\n",
       "      <td>0</td>\n",
       "      <td>1.191857</td>\n",
       "      <td>0.266151</td>\n",
       "      <td>0.166480</td>\n",
       "      <td>0.448154</td>\n",
       "      <td>0.060018</td>\n",
       "      <td>-0.082361</td>\n",
       "      <td>-0.078803</td>\n",
       "      <td>0.085102</td>\n",
       "      <td>-0.255425</td>\n",
       "      <td>...</td>\n",
       "      <td>-0.225775</td>\n",
       "      <td>-0.638672</td>\n",
       "      <td>0.101288</td>\n",
       "      <td>-0.339846</td>\n",
       "      <td>0.167170</td>\n",
       "      <td>0.125895</td>\n",
       "      <td>-0.008983</td>\n",
       "      <td>0.014724</td>\n",
       "      <td>2.69</td>\n",
       "      <td>0</td>\n",
       "    </tr>\n",
       "    <tr>\n",
       "      <th>1</th>\n",
       "      <td>38</td>\n",
       "      <td>0.158332</td>\n",
       "      <td>0.872687</td>\n",
       "      <td>0.965525</td>\n",
       "      <td>1.802127</td>\n",
       "      <td>0.139022</td>\n",
       "      <td>0.110863</td>\n",
       "      <td>0.559079</td>\n",
       "      <td>-0.029071</td>\n",
       "      <td>-0.394912</td>\n",
       "      <td>...</td>\n",
       "      <td>0.116270</td>\n",
       "      <td>0.691685</td>\n",
       "      <td>0.121113</td>\n",
       "      <td>0.116142</td>\n",
       "      <td>-1.112725</td>\n",
       "      <td>-0.303369</td>\n",
       "      <td>0.327533</td>\n",
       "      <td>0.255621</td>\n",
       "      <td>21.76</td>\n",
       "      <td>0</td>\n",
       "    </tr>\n",
       "  </tbody>\n",
       "</table>\n",
       "<p>2 rows × 31 columns</p>\n",
       "</div>"
      ],
      "text/plain": [
       "   Time        V1        V2        V3        V4        V5        V6        V7  \\\n",
       "0     0  1.191857  0.266151  0.166480  0.448154  0.060018 -0.082361 -0.078803   \n",
       "1    38  0.158332  0.872687  0.965525  1.802127  0.139022  0.110863  0.559079   \n",
       "\n",
       "         V8        V9  ...       V21       V22       V23       V24       V25  \\\n",
       "0  0.085102 -0.255425  ... -0.225775 -0.638672  0.101288 -0.339846  0.167170   \n",
       "1 -0.029071 -0.394912  ...  0.116270  0.691685  0.121113  0.116142 -1.112725   \n",
       "\n",
       "        V26       V27       V28  Amount  Class  \n",
       "0  0.125895 -0.008983  0.014724    2.69      0  \n",
       "1 -0.303369  0.327533  0.255621   21.76      0  \n",
       "\n",
       "[2 rows x 31 columns]"
      ]
     },
     "execution_count": 2,
     "metadata": {},
     "output_type": "execute_result"
    }
   ],
   "source": [
    "n = 284807 - 1 #number of records in file (excludes header)\n",
    "s = 10000 #desired sample size\n",
    "skip = sorted(random.sample(range(1,n+1),n-s)) #the 0-indexed header will not be included in the skip list\n",
    "\n",
    "data = pd.read_csv('creditcard.csv', skiprows=skip)\n",
    "X = data.drop('Class', axis=1)\n",
    "print(str(X.shape) + '\\n')\n",
    "print(np.unique(data['Class'], return_counts=True))\n",
    "print('\\nInbalance ratio (class0/class1) : ' + str(492/284315)+'\\n')\n",
    "\n",
    "data.head(2)"
   ]
  },
  {
   "cell_type": "markdown",
   "id": "818175a6",
   "metadata": {},
   "source": [
    "# ABOD"
   ]
  },
  {
   "cell_type": "code",
   "execution_count": 3,
   "id": "65c2cf36",
   "metadata": {},
   "outputs": [
    {
     "name": "stderr",
     "output_type": "stream",
     "text": [
      "C:\\Users\\Mohammad KH\\AppData\\Roaming\\Python\\Python39\\site-packages\\sklearn\\utils\\deprecation.py:87: FutureWarning: Function fit_predict is deprecated\n",
      "  warnings.warn(msg, category=FutureWarning)\n"
     ]
    },
    {
     "name": "stdout",
     "output_type": "stream",
     "text": [
      "(array([0, 1]), array([9981,   20], dtype=int64))\n",
      "              precision    recall  f1-score   support\n",
      "\n",
      "           0       1.00      1.00      1.00      9986\n",
      "           1       0.00      0.00      0.00        15\n",
      "\n",
      "    accuracy                           1.00     10001\n",
      "   macro avg       0.50      0.50      0.50     10001\n",
      "weighted avg       1.00      1.00      1.00     10001\n",
      "\n"
     ]
    }
   ],
   "source": [
    "abod_od = abod.ABOD(n_neighbors=20, contamination=0.002)\n",
    "y_pred = abod_od.fit_predict(X)\n",
    "\n",
    "print(np.unique(y_pred, return_counts=True))\n",
    "\n",
    "print(metrics.classification_report(y_true=data['Class'], y_pred=y_pred))"
   ]
  }
 ],
 "metadata": {
  "kernelspec": {
   "display_name": "deep",
   "language": "python",
   "name": "deep_"
  },
  "language_info": {
   "codemirror_mode": {
    "name": "ipython",
    "version": 3
   },
   "file_extension": ".py",
   "mimetype": "text/x-python",
   "name": "python",
   "nbconvert_exporter": "python",
   "pygments_lexer": "ipython3",
   "version": "3.9.7"
  }
 },
 "nbformat": 4,
 "nbformat_minor": 5
}
