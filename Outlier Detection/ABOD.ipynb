{
 "cells": [
  {
   "cell_type": "markdown",
   "id": "2b3ec8b6",
   "metadata": {},
   "source": [
    "<div style=\"direction:rtl;text-align:center\"><img src=\"https://mohammadkh.ir/github/logo.png\" alt=\"Mohammadkh.ir\" style=\"width: 250px;\"/></div>\n",
    "<h1><div style=\"direction:rtl;text-align:center\">Clustering</div></h1>"
   ]
  },
  {
   "cell_type": "code",
   "execution_count": 2,
   "id": "ca7352e8",
   "metadata": {},
   "outputs": [],
   "source": [
    "import random\n",
    "import pandas as pd\n",
    "import numpy as np\n",
    "from sklearn import metrics\n",
    "from pyod.models import abod"
   ]
  },
  {
   "cell_type": "code",
   "execution_count": 3,
   "id": "3eb072fb",
   "metadata": {},
   "outputs": [
    {
     "name": "stdout",
     "output_type": "stream",
     "text": [
      "(10001, 30)\n",
      "\n",
      "(array([0, 1], dtype=int64), array([9979,   22], dtype=int64))\n",
      "\n",
      "Inbalance ratio (class0/class1) : 0.0017304750013189597\n",
      "\n"
     ]
    },
    {
     "data": {
      "text/html": [
       "<div>\n",
       "<style scoped>\n",
       "    .dataframe tbody tr th:only-of-type {\n",
       "        vertical-align: middle;\n",
       "    }\n",
       "\n",
       "    .dataframe tbody tr th {\n",
       "        vertical-align: top;\n",
       "    }\n",
       "\n",
       "    .dataframe thead th {\n",
       "        text-align: right;\n",
       "    }\n",
       "</style>\n",
       "<table border=\"1\" class=\"dataframe\">\n",
       "  <thead>\n",
       "    <tr style=\"text-align: right;\">\n",
       "      <th></th>\n",
       "      <th>Time</th>\n",
       "      <th>V1</th>\n",
       "      <th>V2</th>\n",
       "      <th>V3</th>\n",
       "      <th>V4</th>\n",
       "      <th>V5</th>\n",
       "      <th>V6</th>\n",
       "      <th>V7</th>\n",
       "      <th>V8</th>\n",
       "      <th>V9</th>\n",
       "      <th>...</th>\n",
       "      <th>V21</th>\n",
       "      <th>V22</th>\n",
       "      <th>V23</th>\n",
       "      <th>V24</th>\n",
       "      <th>V25</th>\n",
       "      <th>V26</th>\n",
       "      <th>V27</th>\n",
       "      <th>V28</th>\n",
       "      <th>Amount</th>\n",
       "      <th>Class</th>\n",
       "    </tr>\n",
       "  </thead>\n",
       "  <tbody>\n",
       "    <tr>\n",
       "      <th>0</th>\n",
       "      <td>25</td>\n",
       "      <td>1.114009</td>\n",
       "      <td>0.085546</td>\n",
       "      <td>0.493702</td>\n",
       "      <td>1.33576</td>\n",
       "      <td>-0.300189</td>\n",
       "      <td>-0.010754</td>\n",
       "      <td>-0.118760</td>\n",
       "      <td>0.188617</td>\n",
       "      <td>0.205687</td>\n",
       "      <td>...</td>\n",
       "      <td>-0.053234</td>\n",
       "      <td>-0.00476</td>\n",
       "      <td>-0.031470</td>\n",
       "      <td>0.198054</td>\n",
       "      <td>0.565007</td>\n",
       "      <td>-0.337718</td>\n",
       "      <td>0.029057</td>\n",
       "      <td>0.004453</td>\n",
       "      <td>4.45</td>\n",
       "      <td>0</td>\n",
       "    </tr>\n",
       "    <tr>\n",
       "      <th>1</th>\n",
       "      <td>32</td>\n",
       "      <td>1.249055</td>\n",
       "      <td>-0.624727</td>\n",
       "      <td>-0.710589</td>\n",
       "      <td>-0.99160</td>\n",
       "      <td>1.429973</td>\n",
       "      <td>3.692977</td>\n",
       "      <td>-1.090209</td>\n",
       "      <td>0.967291</td>\n",
       "      <td>0.850149</td>\n",
       "      <td>...</td>\n",
       "      <td>-0.006293</td>\n",
       "      <td>0.00920</td>\n",
       "      <td>-0.129463</td>\n",
       "      <td>1.112970</td>\n",
       "      <td>0.500382</td>\n",
       "      <td>1.196549</td>\n",
       "      <td>-0.048220</td>\n",
       "      <td>0.005094</td>\n",
       "      <td>29.89</td>\n",
       "      <td>0</td>\n",
       "    </tr>\n",
       "  </tbody>\n",
       "</table>\n",
       "<p>2 rows × 31 columns</p>\n",
       "</div>"
      ],
      "text/plain": [
       "   Time        V1        V2        V3       V4        V5        V6        V7  \\\n",
       "0    25  1.114009  0.085546  0.493702  1.33576 -0.300189 -0.010754 -0.118760   \n",
       "1    32  1.249055 -0.624727 -0.710589 -0.99160  1.429973  3.692977 -1.090209   \n",
       "\n",
       "         V8        V9  ...       V21      V22       V23       V24       V25  \\\n",
       "0  0.188617  0.205687  ... -0.053234 -0.00476 -0.031470  0.198054  0.565007   \n",
       "1  0.967291  0.850149  ... -0.006293  0.00920 -0.129463  1.112970  0.500382   \n",
       "\n",
       "        V26       V27       V28  Amount  Class  \n",
       "0 -0.337718  0.029057  0.004453    4.45      0  \n",
       "1  1.196549 -0.048220  0.005094   29.89      0  \n",
       "\n",
       "[2 rows x 31 columns]"
      ]
     },
     "execution_count": 3,
     "metadata": {},
     "output_type": "execute_result"
    }
   ],
   "source": [
    "n = 284807 - 1 #number of records in file (excludes header)\n",
    "s = 10000 #desired sample size\n",
    "skip = sorted(random.sample(range(1,n+1),n-s)) #the 0-indexed header will not be included in the skip list\n",
    "\n",
    "data = pd.read_csv('../__data/creditcard.csv', skiprows=skip)\n",
    "X = data.drop('Class', axis=1)\n",
    "print(str(X.shape) + '\\n')\n",
    "print(np.unique(data['Class'], return_counts=True))\n",
    "print('\\nInbalance ratio (class0/class1) : ' + str(492/284315)+'\\n')\n",
    "\n",
    "data.head(2)"
   ]
  },
  {
   "cell_type": "markdown",
   "id": "818175a6",
   "metadata": {},
   "source": [
    "# ABOD"
   ]
  },
  {
   "cell_type": "code",
   "execution_count": 3,
   "id": "65c2cf36",
   "metadata": {
    "scrolled": true
   },
   "outputs": [
    {
     "name": "stderr",
     "output_type": "stream",
     "text": [
      "C:\\Users\\Mohammad KH\\AppData\\Roaming\\Python\\Python39\\site-packages\\sklearn\\utils\\deprecation.py:87: FutureWarning: Function fit_predict is deprecated\n",
      "  warnings.warn(msg, category=FutureWarning)\n"
     ]
    },
    {
     "name": "stdout",
     "output_type": "stream",
     "text": [
      "(array([0, 1]), array([9981,   20], dtype=int64))\n",
      "              precision    recall  f1-score   support\n",
      "\n",
      "           0       1.00      1.00      1.00      9986\n",
      "           1       0.00      0.00      0.00        15\n",
      "\n",
      "    accuracy                           1.00     10001\n",
      "   macro avg       0.50      0.50      0.50     10001\n",
      "weighted avg       1.00      1.00      1.00     10001\n",
      "\n"
     ]
    }
   ],
   "source": [
    "abod_od = abod.ABOD(n_neighbors=20, contamination=0.002)\n",
    "y_pred = abod_od.fit_predict(X)\n",
    "\n",
    "print(np.unique(y_pred, return_counts=True))\n",
    "\n",
    "print(metrics.classification_report(y_true=data['Class'], y_pred=y_pred))"
   ]
  },
  {
   "cell_type": "markdown",
   "id": "e860432d",
   "metadata": {},
   "source": [
    "<div class=\"alert alert-block alert-info\">\n",
    "<div style=\"direction:rtl;text-align:left\"><strong>Clustering</strong><br>MohammadReza <strong>Khajedaloi</strong><br><br>\n",
    "</div>\n",
    "<div style=\"direction:rtl;text-align:right\">\n",
    "<a href=\"http://mohammadkh.ir/\">WebSite</a> - <a href=\"https://github.com/khajedaloi/\">GitHub</a> - <a href=\"https://www.linkedin.com/in/mohammad-kh/\">Linkedin</a>\n",
    "</div>\n",
    "</div>"
   ]
  }
 ],
 "metadata": {
  "kernelspec": {
   "display_name": "deep",
   "language": "python",
   "name": "deep_"
  },
  "language_info": {
   "codemirror_mode": {
    "name": "ipython",
    "version": 3
   },
   "file_extension": ".py",
   "mimetype": "text/x-python",
   "name": "python",
   "nbconvert_exporter": "python",
   "pygments_lexer": "ipython3",
   "version": "3.9.7"
  }
 },
 "nbformat": 4,
 "nbformat_minor": 5
}
