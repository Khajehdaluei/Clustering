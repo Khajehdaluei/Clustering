{
 "cells": [
  {
   "cell_type": "markdown",
   "id": "2b3ec8b6",
   "metadata": {},
   "source": [
    "<div style=\"direction:rtl;text-align:center\"><img src=\"https://mohammadkh.ir/github/logo.png\" alt=\"Mohammadkh.ir\" style=\"width: 250px;\"/></div>\n",
    "<h1><div style=\"direction:rtl;text-align:center\">Clustering</div></h1>"
   ]
  },
  {
   "cell_type": "code",
   "execution_count": 2,
   "id": "f9c9c59c",
   "metadata": {},
   "outputs": [],
   "source": [
    "import pandas as pd\n",
    "import numpy as np\n",
    "import random\n",
    "import re\n",
    "import umap\n",
    "from collections import Counter\n",
    "from nltk import word_tokenize\n",
    "from sklearn.feature_extraction.text import TfidfVectorizer\n",
    "from sklearn.metrics import silhouette_score\n",
    "from sklearn.cluster import KMeans\n",
    "from sklearn.mixture import GaussianMixture"
   ]
  },
  {
   "cell_type": "markdown",
   "id": "f24afcde",
   "metadata": {},
   "source": [
    "# data - preproccessing"
   ]
  },
  {
   "cell_type": "code",
   "execution_count": 3,
   "id": "c622b08a",
   "metadata": {},
   "outputs": [
    {
     "data": {
      "text/html": [
       "<div>\n",
       "<style scoped>\n",
       "    .dataframe tbody tr th:only-of-type {\n",
       "        vertical-align: middle;\n",
       "    }\n",
       "\n",
       "    .dataframe tbody tr th {\n",
       "        vertical-align: top;\n",
       "    }\n",
       "\n",
       "    .dataframe thead th {\n",
       "        text-align: right;\n",
       "    }\n",
       "</style>\n",
       "<table border=\"1\" class=\"dataframe\">\n",
       "  <thead>\n",
       "    <tr style=\"text-align: right;\">\n",
       "      <th></th>\n",
       "      <th>Show Number</th>\n",
       "      <th>Air Date</th>\n",
       "      <th>Round</th>\n",
       "      <th>Category</th>\n",
       "      <th>Value</th>\n",
       "      <th>Question</th>\n",
       "      <th>Answer</th>\n",
       "    </tr>\n",
       "  </thead>\n",
       "  <tbody>\n",
       "    <tr>\n",
       "      <th>0</th>\n",
       "      <td>2825</td>\n",
       "      <td>1996-12-06</td>\n",
       "      <td>Jeopardy!</td>\n",
       "      <td>TELEVISION</td>\n",
       "      <td>$300</td>\n",
       "      <td>This crime drama with Robert Wagner &amp; Stefanie...</td>\n",
       "      <td>Hart to Hart</td>\n",
       "    </tr>\n",
       "    <tr>\n",
       "      <th>1</th>\n",
       "      <td>2735</td>\n",
       "      <td>1996-06-21</td>\n",
       "      <td>Double Jeopardy!</td>\n",
       "      <td>MEDICAL MILESTONES</td>\n",
       "      <td>$200</td>\n",
       "      <td>In 1751, with Benjamin Franklin's help, the 1s...</td>\n",
       "      <td>Philadelphia</td>\n",
       "    </tr>\n",
       "  </tbody>\n",
       "</table>\n",
       "</div>"
      ],
      "text/plain": [
       "   Show Number    Air Date             Round            Category  Value  \\\n",
       "0         2825  1996-12-06         Jeopardy!          TELEVISION   $300   \n",
       "1         2735  1996-06-21  Double Jeopardy!  MEDICAL MILESTONES   $200   \n",
       "\n",
       "                                            Question        Answer  \n",
       "0  This crime drama with Robert Wagner & Stefanie...  Hart to Hart  \n",
       "1  In 1751, with Benjamin Franklin's help, the 1s...  Philadelphia  "
      ]
     },
     "execution_count": 3,
     "metadata": {},
     "output_type": "execute_result"
    }
   ],
   "source": [
    "n = 216930 - 1 #number of records in file (excludes header)\n",
    "s = 1000 #desired sample size\n",
    "skip = sorted(random.sample(range(1,n+1),n-s)) #the 0-indexed header will not be included in the skip list\n",
    "\n",
    "data = pd.read_csv('../__data/JEOPARDY_CSV.csv', skiprows=skip)\n",
    "\n",
    "X = data[[' Question']]\n",
    "\n",
    "data.head(2)"
   ]
  },
  {
   "cell_type": "code",
   "execution_count": 3,
   "id": "8e545967",
   "metadata": {},
   "outputs": [],
   "source": [
    "#stopworsd en\n",
    "with open('stopwords.txt', encoding=\"utf8\") as stopwords_file:\n",
    "    stopwords = stopwords_file.readlines()\n",
    "    \n",
    "stopwords = [line.replace('\\n', '') for line in stopwords]"
   ]
  },
  {
   "cell_type": "code",
   "execution_count": 4,
   "id": "cb2d13dd",
   "metadata": {},
   "outputs": [
    {
     "data": {
      "text/plain": [
       "'this is a string  '"
      ]
     },
     "execution_count": 4,
     "metadata": {},
     "output_type": "execute_result"
    }
   ],
   "source": [
    "# ex : re\n",
    "s = 'this. is: a string32 2 333?'\n",
    "\n",
    "s = re.sub('[^\\w\\s]', '', s) # del ,. ! ...\n",
    "s = re.sub(\"\\d+\", '', s)     # del numbers\n",
    "s"
   ]
  },
  {
   "cell_type": "code",
   "execution_count": 5,
   "id": "0cf7571e",
   "metadata": {},
   "outputs": [
    {
     "data": {
      "text/html": [
       "<div>\n",
       "<style scoped>\n",
       "    .dataframe tbody tr th:only-of-type {\n",
       "        vertical-align: middle;\n",
       "    }\n",
       "\n",
       "    .dataframe tbody tr th {\n",
       "        vertical-align: top;\n",
       "    }\n",
       "\n",
       "    .dataframe thead th {\n",
       "        text-align: right;\n",
       "    }\n",
       "</style>\n",
       "<table border=\"1\" class=\"dataframe\">\n",
       "  <thead>\n",
       "    <tr style=\"text-align: right;\">\n",
       "      <th></th>\n",
       "      <th>title_body</th>\n",
       "    </tr>\n",
       "  </thead>\n",
       "  <tbody>\n",
       "    <tr>\n",
       "      <th>0</th>\n",
       "      <td>corniche  silver shadow</td>\n",
       "    </tr>\n",
       "    <tr>\n",
       "      <th>1</th>\n",
       "      <td>develop single ovum  variety twins genetic makeup</td>\n",
       "    </tr>\n",
       "  </tbody>\n",
       "</table>\n",
       "</div>"
      ],
      "text/plain": [
       "                                          title_body\n",
       "0                            corniche  silver shadow\n",
       "1  develop single ovum  variety twins genetic makeup"
      ]
     },
     "execution_count": 5,
     "metadata": {},
     "output_type": "execute_result"
    }
   ],
   "source": [
    "dataset = pd.DataFrame(columns=['title_body']) # create new dataset\n",
    "\n",
    "for index, row in X.iterrows():\n",
    "    title_body_tokenized = word_tokenize(row[' Question'])\n",
    "    title_body_tokenized_filtered = [w.lower() for w in title_body_tokenized if not w.lower() in stopwords]\n",
    "    s = re.sub('[^\\w\\s]', '', ' '.join(title_body_tokenized_filtered))\n",
    "    s = re.sub(\"\\d+\", \"\", s)\n",
    "    dataset.loc[index] = {'title_body': s}\n",
    "    \n",
    "dataset.head(2)"
   ]
  },
  {
   "cell_type": "code",
   "execution_count": 6,
   "id": "fd242e4c",
   "metadata": {},
   "outputs": [
    {
     "data": {
      "text/plain": [
       "<1001x4026 sparse matrix of type '<class 'numpy.float64'>'\n",
       "\twith 6565 stored elements in Compressed Sparse Row format>"
      ]
     },
     "execution_count": 6,
     "metadata": {},
     "output_type": "execute_result"
    }
   ],
   "source": [
    "vectorizer = TfidfVectorizer()\n",
    "vectorizer.fit(dataset['title_body'])\n",
    "X = vectorizer.transform(dataset['title_body'])\n",
    "X"
   ]
  },
  {
   "cell_type": "code",
   "execution_count": 7,
   "id": "3cb478e6",
   "metadata": {},
   "outputs": [],
   "source": [
    "reducer = umap.UMAP(n_components=300)\n",
    "X_reduced = reducer.fit_transform(X)"
   ]
  },
  {
   "cell_type": "markdown",
   "id": "9323195f",
   "metadata": {},
   "source": [
    "# MeanShift"
   ]
  },
  {
   "cell_type": "code",
   "execution_count": 8,
   "id": "b8e12770",
   "metadata": {},
   "outputs": [],
   "source": [
    "kmeans = KMeans(n_clusters=4, max_iter=3000,random_state=1)\n",
    "kmeans.fit(X) \n",
    "dataset['Cluster'] = kmeans.labels_"
   ]
  },
  {
   "cell_type": "code",
   "execution_count": 9,
   "id": "4fc9c89f",
   "metadata": {},
   "outputs": [
    {
     "data": {
      "text/plain": [
       "(1001,)"
      ]
     },
     "execution_count": 9,
     "metadata": {},
     "output_type": "execute_result"
    }
   ],
   "source": [
    "dataset['Cluster'].shape"
   ]
  },
  {
   "cell_type": "code",
   "execution_count": 10,
   "id": "6e3b88b8",
   "metadata": {},
   "outputs": [
    {
     "data": {
      "text/plain": [
       "0.006433026046825197"
      ]
     },
     "execution_count": 10,
     "metadata": {},
     "output_type": "execute_result"
    }
   ],
   "source": [
    "silhouette_score(X, dataset['Cluster'])"
   ]
  },
  {
   "cell_type": "code",
   "execution_count": 11,
   "id": "a0fb86d6",
   "metadata": {},
   "outputs": [
    {
     "data": {
      "text/html": [
       "<div>\n",
       "<style scoped>\n",
       "    .dataframe tbody tr th:only-of-type {\n",
       "        vertical-align: middle;\n",
       "    }\n",
       "\n",
       "    .dataframe tbody tr th {\n",
       "        vertical-align: top;\n",
       "    }\n",
       "\n",
       "    .dataframe thead th {\n",
       "        text-align: right;\n",
       "    }\n",
       "</style>\n",
       "<table border=\"1\" class=\"dataframe\">\n",
       "  <thead>\n",
       "    <tr style=\"text-align: right;\">\n",
       "      <th></th>\n",
       "      <th>title_body</th>\n",
       "      <th>Cluster</th>\n",
       "    </tr>\n",
       "  </thead>\n",
       "  <tbody>\n",
       "    <tr>\n",
       "      <th>4</th>\n",
       "      <td>guyana s largest cities  s york city</td>\n",
       "      <td>1</td>\n",
       "    </tr>\n",
       "    <tr>\n",
       "      <th>18</th>\n",
       "      <td>called declaration war germany  safe democracy</td>\n",
       "      <td>1</td>\n",
       "    </tr>\n",
       "    <tr>\n",
       "      <th>56</th>\n",
       "      <td>natives city s ok  okc</td>\n",
       "      <td>1</td>\n",
       "    </tr>\n",
       "  </tbody>\n",
       "</table>\n",
       "</div>"
      ],
      "text/plain": [
       "                                          title_body  Cluster\n",
       "4               guyana s largest cities  s york city        1\n",
       "18   called declaration war germany  safe democracy         1\n",
       "56                            natives city s ok  okc        1"
      ]
     },
     "execution_count": 11,
     "metadata": {},
     "output_type": "execute_result"
    }
   ],
   "source": [
    "dataset[dataset['Cluster'] == 1][:3]"
   ]
  },
  {
   "cell_type": "code",
   "execution_count": 12,
   "id": "e163a0cc",
   "metadata": {},
   "outputs": [
    {
     "data": {
      "text/plain": [
       "[('city', 37),\n",
       " ('s', 16),\n",
       " ('war', 12),\n",
       " ('called', 5),\n",
       " ('south', 4),\n",
       " ('largest', 3),\n",
       " ('york', 3),\n",
       " ('capital', 3),\n",
       " ('american', 3),\n",
       " ('alexander', 3),\n",
       " ('mayor', 2),\n",
       " ('january', 2),\n",
       " ('spanish', 2),\n",
       " ('george', 2),\n",
       " ('miles', 2),\n",
       " ('north', 2),\n",
       " ('port', 2),\n",
       " ('joseph', 2),\n",
       " ('national', 2),\n",
       " ('mark', 2)]"
      ]
     },
     "execution_count": 12,
     "metadata": {},
     "output_type": "execute_result"
    }
   ],
   "source": [
    "Counter(\" \".join(dataset[dataset['Cluster'] == 1][\"title_body\"]).split()).most_common(20) # 20 top repeat word category"
   ]
  },
  {
   "cell_type": "markdown",
   "id": "313945e7",
   "metadata": {},
   "source": [
    "# GaussianMixture"
   ]
  },
  {
   "cell_type": "code",
   "execution_count": 13,
   "id": "6f2d0528",
   "metadata": {},
   "outputs": [],
   "source": [
    "gaussian = GaussianMixture(n_components=4, covariance_type=\"full\",random_state=1)\n",
    "dataset['Cluster'] = gaussian.fit_predict(X_reduced)"
   ]
  },
  {
   "cell_type": "code",
   "execution_count": 14,
   "id": "df561226",
   "metadata": {},
   "outputs": [
    {
     "data": {
      "text/plain": [
       "-0.0005529337739190555"
      ]
     },
     "execution_count": 14,
     "metadata": {},
     "output_type": "execute_result"
    }
   ],
   "source": [
    "silhouette_score(X, dataset['Cluster'])"
   ]
  },
  {
   "cell_type": "code",
   "execution_count": 15,
   "id": "b2264a31",
   "metadata": {},
   "outputs": [
    {
     "data": {
      "text/html": [
       "<div>\n",
       "<style scoped>\n",
       "    .dataframe tbody tr th:only-of-type {\n",
       "        vertical-align: middle;\n",
       "    }\n",
       "\n",
       "    .dataframe tbody tr th {\n",
       "        vertical-align: top;\n",
       "    }\n",
       "\n",
       "    .dataframe thead th {\n",
       "        text-align: right;\n",
       "    }\n",
       "</style>\n",
       "<table border=\"1\" class=\"dataframe\">\n",
       "  <thead>\n",
       "    <tr style=\"text-align: right;\">\n",
       "      <th></th>\n",
       "      <th>title_body</th>\n",
       "      <th>Cluster</th>\n",
       "    </tr>\n",
       "  </thead>\n",
       "  <tbody>\n",
       "    <tr>\n",
       "      <th>0</th>\n",
       "      <td>corniche  silver shadow</td>\n",
       "      <td>1</td>\n",
       "    </tr>\n",
       "    <tr>\n",
       "      <th>1</th>\n",
       "      <td>develop single ovum  variety twins genetic makeup</td>\n",
       "      <td>1</td>\n",
       "    </tr>\n",
       "    <tr>\n",
       "      <th>5</th>\n",
       "      <td>hurt</td>\n",
       "      <td>1</td>\n",
       "    </tr>\n",
       "  </tbody>\n",
       "</table>\n",
       "</div>"
      ],
      "text/plain": [
       "                                          title_body  Cluster\n",
       "0                            corniche  silver shadow        1\n",
       "1  develop single ovum  variety twins genetic makeup        1\n",
       "5                                              hurt         1"
      ]
     },
     "execution_count": 15,
     "metadata": {},
     "output_type": "execute_result"
    }
   ],
   "source": [
    "dataset[dataset['Cluster'] == 1][:3]"
   ]
  },
  {
   "cell_type": "code",
   "execution_count": 16,
   "id": "d5c3e714",
   "metadata": {
    "scrolled": true
   },
   "outputs": [
    {
     "data": {
      "text/plain": [
       "[('s', 76),\n",
       " ('city', 17),\n",
       " ('href', 16),\n",
       " ('a', 16),\n",
       " ('target', 13),\n",
       " ('_blank', 13),\n",
       " ('named', 10),\n",
       " ('film', 9),\n",
       " ('country', 9),\n",
       " ('south', 8),\n",
       " ('wwwjarchivecommedia_j_jpg', 8),\n",
       " ('war', 8),\n",
       " ('th', 8),\n",
       " ('called', 7),\n",
       " ('title', 7),\n",
       " ('word', 6),\n",
       " ('king', 5),\n",
       " ('white', 5),\n",
       " ('classic', 5),\n",
       " ('german', 5)]"
      ]
     },
     "execution_count": 16,
     "metadata": {},
     "output_type": "execute_result"
    }
   ],
   "source": [
    "Counter(\" \".join(dataset[dataset['Cluster'] == 1][\"title_body\"]).split()).most_common(20) # 20 top repeat word category"
   ]
  },
  {
   "cell_type": "markdown",
   "id": "e860432d",
   "metadata": {},
   "source": [
    "<div class=\"alert alert-block alert-info\">\n",
    "<div style=\"direction:rtl;text-align:left\"><strong>Clustering</strong><br>MohammadReza <strong>Khajedaloi</strong><br><br>\n",
    "</div>\n",
    "<div style=\"direction:rtl;text-align:right\">\n",
    "<a href=\"http://mohammadkh.ir/\">WebSite</a> - <a href=\"https://github.com/khajedaloi/\">GitHub</a> - <a href=\"https://www.linkedin.com/in/mohammad-kh/\">Linkedin</a>\n",
    "</div>\n",
    "</div>"
   ]
  }
 ],
 "metadata": {
  "kernelspec": {
   "display_name": "deep",
   "language": "python",
   "name": "deep_"
  },
  "language_info": {
   "codemirror_mode": {
    "name": "ipython",
    "version": 3
   },
   "file_extension": ".py",
   "mimetype": "text/x-python",
   "name": "python",
   "nbconvert_exporter": "python",
   "pygments_lexer": "ipython3",
   "version": "3.9.7"
  }
 },
 "nbformat": 4,
 "nbformat_minor": 5
}
