{
 "cells": [
  {
   "cell_type": "markdown",
   "id": "2b3ec8b6",
   "metadata": {},
   "source": [
    "<div style=\"direction:rtl;text-align:center\"><img src=\"https://dl.mohammadkh.ir/logo.png\" alt=\"Mohammadkh.ir\" style=\"width: 250px;\"/></div>\n",
    "<h1><div style=\"direction:rtl;text-align:center\">Clustering</div></h1>"
   ]
  },
  {
   "cell_type": "markdown",
   "id": "127c4cee",
   "metadata": {},
   "source": [
    "### start"
   ]
  },
  {
   "cell_type": "code",
   "execution_count": 1,
   "id": "a425310c",
   "metadata": {},
   "outputs": [],
   "source": [
    "import pandas as pd\n",
    "import numpy as np\n",
    "import datetime as dt\n",
    "import pickle\n",
    "import matplotlib.pyplot as plt\n",
    "from sklearn.metrics import silhouette_score\n",
    "from sklearn.cluster import KMeans\n",
    "from sklearn.cluster import DBSCAN"
   ]
  },
  {
   "cell_type": "code",
   "execution_count": 2,
   "id": "5e6fc6d1",
   "metadata": {},
   "outputs": [
    {
     "data": {
      "text/html": [
       "<div>\n",
       "<style scoped>\n",
       "    .dataframe tbody tr th:only-of-type {\n",
       "        vertical-align: middle;\n",
       "    }\n",
       "\n",
       "    .dataframe tbody tr th {\n",
       "        vertical-align: top;\n",
       "    }\n",
       "\n",
       "    .dataframe thead th {\n",
       "        text-align: right;\n",
       "    }\n",
       "</style>\n",
       "<table border=\"1\" class=\"dataframe\">\n",
       "  <thead>\n",
       "    <tr style=\"text-align: right;\">\n",
       "      <th></th>\n",
       "      <th>Recency</th>\n",
       "      <th>Frequency</th>\n",
       "      <th>Monetary</th>\n",
       "      <th>R</th>\n",
       "      <th>F</th>\n",
       "      <th>M</th>\n",
       "    </tr>\n",
       "    <tr>\n",
       "      <th>CustomerID</th>\n",
       "      <th></th>\n",
       "      <th></th>\n",
       "      <th></th>\n",
       "      <th></th>\n",
       "      <th></th>\n",
       "      <th></th>\n",
       "    </tr>\n",
       "  </thead>\n",
       "  <tbody>\n",
       "    <tr>\n",
       "      <th>12346.0</th>\n",
       "      <td>326</td>\n",
       "      <td>2</td>\n",
       "      <td>0.0</td>\n",
       "      <td>1</td>\n",
       "      <td>1</td>\n",
       "      <td>1</td>\n",
       "    </tr>\n",
       "    <tr>\n",
       "      <th>12347.0</th>\n",
       "      <td>3</td>\n",
       "      <td>182</td>\n",
       "      <td>4310.0</td>\n",
       "      <td>4</td>\n",
       "      <td>4</td>\n",
       "      <td>4</td>\n",
       "    </tr>\n",
       "  </tbody>\n",
       "</table>\n",
       "</div>"
      ],
      "text/plain": [
       "            Recency  Frequency  Monetary  R  F  M\n",
       "CustomerID                                       \n",
       "12346.0         326          2       0.0  1  1  1\n",
       "12347.0           3        182    4310.0  4  4  4"
      ]
     },
     "execution_count": 2,
     "metadata": {},
     "output_type": "execute_result"
    }
   ],
   "source": [
    "with open('../__data/Online Retail.pickle','rb') as f :\n",
    "    data = pickle.load(f)\n",
    "# del null    \n",
    "data = data[data['CustomerID'].notnull()]\n",
    "# fix time\n",
    "data['InvoiceDay'] = data['InvoiceDate'].apply(lambda x: dt.datetime(x.year, x.month, x.day))\n",
    "# cal last shoping time\n",
    "pin_date = max(data['InvoiceDay']) + dt.timedelta(1) # max day + 1 day = last day\n",
    "# cal sum factor\n",
    "data['TotalSum'] = data['Quantity'] * data['UnitPrice']\n",
    "\n",
    "\n",
    "# creat rfm data\n",
    "# group CustomerID -- last shop , count shop , sum price shop\n",
    "rfm = data.groupby('CustomerID').agg({\n",
    "    'InvoiceDay': lambda x: (pin_date - x.max()).days,\n",
    "    'InvoiceNo': 'count',\n",
    "    'TotalSum': 'sum'\n",
    "})\n",
    "\n",
    "# rename columes\n",
    "rfm.rename(columns= {\n",
    "    'InvoiceDay': 'Recency',\n",
    "    'InvoiceNo': 'Frequency',\n",
    "    'TotalSum': 'Monetary'\n",
    "}, inplace=True)\n",
    "\n",
    "# scale\n",
    "r_labels = range(4, 0, -1)\n",
    "r_groups = pd.qcut(rfm['Recency'], q=4, labels=r_labels)\n",
    "rfm['R'] = r_groups.values\n",
    "\n",
    "f_labels = range(1, 5)\n",
    "f_groups = pd.qcut(rfm['Frequency'], q=4, labels=f_labels)\n",
    "rfm['F'] = f_groups.values\n",
    "\n",
    "m_labels = range(1, 5)\n",
    "m_groups = pd.qcut(rfm['Monetary'], q=4, labels=m_labels)\n",
    "rfm['M'] = m_groups.values\n",
    "\n",
    "# data for clustering\n",
    "X = rfm[['R', 'F', 'M']]\n",
    "\n",
    "rfm.head(2)"
   ]
  },
  {
   "cell_type": "markdown",
   "id": "c77957a8",
   "metadata": {},
   "source": [
    "# clustering"
   ]
  },
  {
   "cell_type": "markdown",
   "id": "5179ac8e",
   "metadata": {},
   "source": [
    "### KMeans"
   ]
  },
  {
   "cell_type": "code",
   "execution_count": 3,
   "id": "73755f13",
   "metadata": {},
   "outputs": [
    {
     "data": {
      "text/plain": [
       "KMeans(n_clusters=2, random_state=0)"
      ]
     },
     "execution_count": 3,
     "metadata": {},
     "output_type": "execute_result"
    }
   ],
   "source": [
    "kmeans = KMeans(n_clusters=2, init='k-means++', max_iter=300, random_state=0)\n",
    "kmeans.fit(X)"
   ]
  },
  {
   "cell_type": "code",
   "execution_count": 4,
   "id": "17990a5b",
   "metadata": {},
   "outputs": [
    {
     "data": {
      "text/plain": [
       "array([0, 1])"
      ]
     },
     "execution_count": 4,
     "metadata": {},
     "output_type": "execute_result"
    }
   ],
   "source": [
    "np.unique(kmeans.labels_)"
   ]
  },
  {
   "cell_type": "code",
   "execution_count": 5,
   "id": "99d7abc5",
   "metadata": {},
   "outputs": [
    {
     "data": {
      "text/plain": [
       "0.4532234447516019"
      ]
     },
     "execution_count": 5,
     "metadata": {},
     "output_type": "execute_result"
    }
   ],
   "source": [
    "#range -1 1 --> 0 ham poshani\n",
    "silhouette_score(X, kmeans.labels_)"
   ]
  },
  {
   "cell_type": "code",
   "execution_count": 6,
   "id": "d57ed3d9",
   "metadata": {},
   "outputs": [
    {
     "data": {
      "text/plain": [
       "7612.991565595297"
      ]
     },
     "execution_count": 6,
     "metadata": {},
     "output_type": "execute_result"
    }
   ],
   "source": [
    "kmeans.inertia_"
   ]
  },
  {
   "cell_type": "code",
   "execution_count": 7,
   "id": "eba4ae81",
   "metadata": {},
   "outputs": [
    {
     "data": {
      "text/plain": [
       "[<matplotlib.lines.Line2D at 0x24202db6f10>]"
      ]
     },
     "execution_count": 7,
     "metadata": {},
     "output_type": "execute_result"
    },
    {
     "data": {
      "image/png": "[encoded data removed]",
      "text/plain": [
       "<Figure size 1440x288 with 1 Axes>"
      ]
     },
     "metadata": {
      "needs_background": "light"
     },
     "output_type": "display_data"
    },
    {
     "data": {
      "image/png": "[encoded data removed]",
      "text/plain": [
       "<Figure size 1440x288 with 1 Axes>"
      ]
     },
     "metadata": {
      "needs_background": "light"
     },
     "output_type": "display_data"
    }
   ],
   "source": [
    "wcss = {}\n",
    "silhouette_score_ = {}\n",
    "for k in range(2, 40):\n",
    "    kmeans = KMeans(n_clusters=k, init='k-means++', max_iter=300, random_state=0)\n",
    "    kmeans.fit(X)\n",
    "    wcss[k] = kmeans.inertia_\n",
    "    silhouette_score_[k] = (silhouette_score(X, kmeans.labels_))\n",
    "    \n",
    "plt.figure(figsize=(20,4))\n",
    "plt.plot(list(silhouette_score_.keys()), list(silhouette_score_.values()), 'go--')\n",
    "plt.figure(figsize=(20,4))\n",
    "plt.plot(list(wcss.keys()), list(wcss.values()), 'ro--')"
   ]
  },
  {
   "cell_type": "markdown",
   "id": "66cb2d02",
   "metadata": {},
   "source": [
    "### DBSCAN"
   ]
  },
  {
   "cell_type": "code",
   "execution_count": 8,
   "id": "894185c4",
   "metadata": {},
   "outputs": [
    {
     "data": {
      "text/plain": [
       "DBSCAN(eps=0.9, min_samples=1)"
      ]
     },
     "execution_count": 8,
     "metadata": {},
     "output_type": "execute_result"
    }
   ],
   "source": [
    "dbscan = DBSCAN(eps=0.9, min_samples=1)\n",
    "dbscan.fit(X)"
   ]
  },
  {
   "cell_type": "code",
   "execution_count": 9,
   "id": "5631d2bf",
   "metadata": {},
   "outputs": [
    {
     "data": {
      "text/plain": [
       "array([ 0,  1,  2,  3,  4,  5,  6,  7,  8,  9, 10, 11, 12, 13, 14, 15, 16,\n",
       "       17, 18, 19, 20, 21, 22, 23, 24, 25, 26, 27, 28, 29, 30, 31, 32, 33,\n",
       "       34, 35, 36, 37, 38, 39, 40, 41, 42, 43, 44, 45, 46, 47, 48, 49, 50,\n",
       "       51, 52, 53, 54, 55, 56, 57, 58, 59, 60, 61], dtype=int64)"
      ]
     },
     "execution_count": 9,
     "metadata": {},
     "output_type": "execute_result"
    }
   ],
   "source": [
    "np.unique(dbscan.labels_)"
   ]
  },
  {
   "cell_type": "code",
   "execution_count": 10,
   "id": "36486819",
   "metadata": {},
   "outputs": [
    {
     "data": {
      "text/plain": [
       "0.9995425434583715"
      ]
     },
     "execution_count": 10,
     "metadata": {},
     "output_type": "execute_result"
    }
   ],
   "source": [
    "silhouette_score(X, dbscan.labels_)"
   ]
  },
  {
   "cell_type": "code",
   "execution_count": 23,
   "id": "e6bdfd38",
   "metadata": {
    "scrolled": true
   },
   "outputs": [
    {
     "data": {
      "text/plain": [
       "[<matplotlib.lines.Line2D at 0x2420239e160>]"
      ]
     },
     "execution_count": 23,
     "metadata": {},
     "output_type": "execute_result"
    },
    {
     "data": {
      "image/png": "[encoded data removed]",
      "text/plain": [
       "<Figure size 1440x288 with 1 Axes>"
      ]
     },
     "metadata": {
      "needs_background": "light"
     },
     "output_type": "display_data"
    },
    {
     "data": {
      "image/png": "[encoded data removed]",
      "text/plain": [
       "<Figure size 1440x288 with 1 Axes>"
      ]
     },
     "metadata": {
      "needs_background": "light"
     },
     "output_type": "display_data"
    },
    {
     "data": {
      "image/png": "[encoded data removed]",
      "text/plain": [
       "<Figure size 1440x288 with 1 Axes>"
      ]
     },
     "metadata": {
      "needs_background": "light"
     },
     "output_type": "display_data"
    }
   ],
   "source": [
    "silhouette_score_ = {}\n",
    "for k in [0.1,0.2,0.5,0.7,0.9,1,1.1,1.3,1.5,2,4,10]:\n",
    "    dbscan = DBSCAN(eps=k, min_samples=1)\n",
    "    dbscan.fit(X)\n",
    "    if len(np.unique(dbscan.labels_)) > 1:\n",
    "        silhouette_score_[k] = (silhouette_score(X, dbscan.labels_))\n",
    "    \n",
    "plt.figure(figsize=(20,4))\n",
    "plt.plot(list(silhouette_score_.keys()), list(silhouette_score_.values()), 'go--')\n",
    "\n",
    "count = {} # count lenlabels\n",
    "silhouette_score_ = {}\n",
    "for k in range(1, 50):\n",
    "    dbscan = DBSCAN(eps=0.9, min_samples=k)\n",
    "    dbscan.fit(X)\n",
    "    if len(np.unique(dbscan.labels_)) > 1:\n",
    "        silhouette_score_[k] = (silhouette_score(X, dbscan.labels_))\n",
    "        count[k] = len(np.unique(dbscan.labels_))\n",
    "    \n",
    "plt.figure(figsize=(20,4))\n",
    "plt.plot(list(silhouette_score_.keys()), list(silhouette_score_.values()), 'ro--')\n",
    "plt.figure(figsize=(20,4))\n",
    "plt.plot(list(count.keys()), list(count.values()), 'yo--')"
   ]
  },
  {
   "cell_type": "markdown",
   "id": "e860432d",
   "metadata": {},
   "source": [
    "<div class=\"alert alert-block alert-info\">\n",
    "<div style=\"direction:rtl;text-align:left\"><strong>Clustering</strong><br>MohammadReza <strong>Khajedaloi</strong><br><br>\n",
    "</div>\n",
    "<div style=\"direction:rtl;text-align:right\">\n",
    "<a href=\"http://mohammadkh.ir/\">WebSite</a> - <a href=\"https://github.com/khajedaloi/\">GitHub</a> - <a href=\"https://www.linkedin.com/in/mohammad-kh/\">Linkedin</a>\n",
    "</div>\n",
    "</div>"
   ]
  }
 ],
 "metadata": {
  "kernelspec": {
   "display_name": "deep",
   "language": "python",
   "name": "deep_"
  },
  "language_info": {
   "codemirror_mode": {
    "name": "ipython",
    "version": 3
   },
   "file_extension": ".py",
   "mimetype": "text/x-python",
   "name": "python",
   "nbconvert_exporter": "python",
   "pygments_lexer": "ipython3",
   "version": "3.9.7"
  }
 },
 "nbformat": 4,
 "nbformat_minor": 5
}
