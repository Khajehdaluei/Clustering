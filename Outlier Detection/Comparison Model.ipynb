{
 "cells": [
  {
   "cell_type": "code",
   "execution_count": 6,
   "id": "ca7352e8",
   "metadata": {},
   "outputs": [],
   "source": [
    "import random\n",
    "import pandas as pd\n",
    "import numpy as np\n",
    "from sklearn import metrics\n",
    "from sklearn.neighbors import LocalOutlierFactor\n",
    "from sklearn.ensemble import IsolationForest\n",
    "from pyod.models import abod"
   ]
  },
  {
   "cell_type": "code",
   "execution_count": 2,
   "id": "3eb072fb",
   "metadata": {},
   "outputs": [
    {
     "name": "stdout",
     "output_type": "stream",
     "text": [
      "(10001, 30)\n",
      "\n",
      "(array([0, 1], dtype=int64), array([9986,   15], dtype=int64))\n",
      "\n",
      "Inbalance ratio (class0/class1) : 0.0017304750013189597\n",
      "\n"
     ]
    },
    {
     "data": {
      "text/html": [
       "<div>\n",
       "<style scoped>\n",
       "    .dataframe tbody tr th:only-of-type {\n",
       "        vertical-align: middle;\n",
       "    }\n",
       "\n",
       "    .dataframe tbody tr th {\n",
       "        vertical-align: top;\n",
       "    }\n",
       "\n",
       "    .dataframe thead th {\n",
       "        text-align: right;\n",
       "    }\n",
       "</style>\n",
       "<table border=\"1\" class=\"dataframe\">\n",
       "  <thead>\n",
       "    <tr style=\"text-align: right;\">\n",
       "      <th></th>\n",
       "      <th>Time</th>\n",
       "      <th>V1</th>\n",
       "      <th>V2</th>\n",
       "      <th>V3</th>\n",
       "      <th>V4</th>\n",
       "      <th>V5</th>\n",
       "      <th>V6</th>\n",
       "      <th>V7</th>\n",
       "      <th>V8</th>\n",
       "      <th>V9</th>\n",
       "      <th>...</th>\n",
       "      <th>V21</th>\n",
       "      <th>V22</th>\n",
       "      <th>V23</th>\n",
       "      <th>V24</th>\n",
       "      <th>V25</th>\n",
       "      <th>V26</th>\n",
       "      <th>V27</th>\n",
       "      <th>V28</th>\n",
       "      <th>Amount</th>\n",
       "      <th>Class</th>\n",
       "    </tr>\n",
       "  </thead>\n",
       "  <tbody>\n",
       "    <tr>\n",
       "      <th>0</th>\n",
       "      <td>7</td>\n",
       "      <td>-0.644269</td>\n",
       "      <td>1.417964</td>\n",
       "      <td>1.074380</td>\n",
       "      <td>-0.492199</td>\n",
       "      <td>0.948934</td>\n",
       "      <td>0.428118</td>\n",
       "      <td>1.120631</td>\n",
       "      <td>-3.807864</td>\n",
       "      <td>0.615375</td>\n",
       "      <td>...</td>\n",
       "      <td>1.943465</td>\n",
       "      <td>-1.015455</td>\n",
       "      <td>0.057504</td>\n",
       "      <td>-0.649709</td>\n",
       "      <td>-0.415267</td>\n",
       "      <td>-0.051634</td>\n",
       "      <td>-1.206921</td>\n",
       "      <td>-1.085339</td>\n",
       "      <td>40.80</td>\n",
       "      <td>0</td>\n",
       "    </tr>\n",
       "    <tr>\n",
       "      <th>1</th>\n",
       "      <td>22</td>\n",
       "      <td>-2.074295</td>\n",
       "      <td>-0.121482</td>\n",
       "      <td>1.322021</td>\n",
       "      <td>0.410008</td>\n",
       "      <td>0.295198</td>\n",
       "      <td>-0.959537</td>\n",
       "      <td>0.543985</td>\n",
       "      <td>-0.104627</td>\n",
       "      <td>0.475664</td>\n",
       "      <td>...</td>\n",
       "      <td>-0.403639</td>\n",
       "      <td>-0.227404</td>\n",
       "      <td>0.742435</td>\n",
       "      <td>0.398535</td>\n",
       "      <td>0.249212</td>\n",
       "      <td>0.274404</td>\n",
       "      <td>0.359969</td>\n",
       "      <td>0.243232</td>\n",
       "      <td>26.43</td>\n",
       "      <td>0</td>\n",
       "    </tr>\n",
       "  </tbody>\n",
       "</table>\n",
       "<p>2 rows × 31 columns</p>\n",
       "</div>"
      ],
      "text/plain": [
       "   Time        V1        V2        V3        V4        V5        V6        V7  \\\n",
       "0     7 -0.644269  1.417964  1.074380 -0.492199  0.948934  0.428118  1.120631   \n",
       "1    22 -2.074295 -0.121482  1.322021  0.410008  0.295198 -0.959537  0.543985   \n",
       "\n",
       "         V8        V9  ...       V21       V22       V23       V24       V25  \\\n",
       "0 -3.807864  0.615375  ...  1.943465 -1.015455  0.057504 -0.649709 -0.415267   \n",
       "1 -0.104627  0.475664  ... -0.403639 -0.227404  0.742435  0.398535  0.249212   \n",
       "\n",
       "        V26       V27       V28  Amount  Class  \n",
       "0 -0.051634 -1.206921 -1.085339   40.80      0  \n",
       "1  0.274404  0.359969  0.243232   26.43      0  \n",
       "\n",
       "[2 rows x 31 columns]"
      ]
     },
     "execution_count": 2,
     "metadata": {},
     "output_type": "execute_result"
    }
   ],
   "source": [
    "n = 284807 - 1 #number of records in file (excludes header)\n",
    "s = 10000 #desired sample size\n",
    "skip = sorted(random.sample(range(1,n+1),n-s)) #the 0-indexed header will not be included in the skip list\n",
    "\n",
    "data = pd.read_csv('creditcard.csv', skiprows=skip)\n",
    "X = data.drop('Class', axis=1)\n",
    "print(str(X.shape) + '\\n')\n",
    "print(np.unique(data['Class'], return_counts=True))\n",
    "print('\\nInbalance ratio (class0/class1) : ' + str(492/284315)+'\\n')\n",
    "\n",
    "data.head(2)"
   ]
  },
  {
   "cell_type": "markdown",
   "id": "d35b567a",
   "metadata": {},
   "source": [
    "# LocalOutlierFactor"
   ]
  },
  {
   "cell_type": "code",
   "execution_count": 3,
   "id": "de8deea4",
   "metadata": {},
   "outputs": [
    {
     "name": "stdout",
     "output_type": "stream",
     "text": [
      "(array([0, 1]), array([9981,   20], dtype=int64))\n",
      "              precision    recall  f1-score   support\n",
      "\n",
      "           0       1.00      1.00      1.00      9986\n",
      "           1       0.00      0.00      0.00        15\n",
      "\n",
      "    accuracy                           1.00     10001\n",
      "   macro avg       0.50      0.50      0.50     10001\n",
      "weighted avg       1.00      1.00      1.00     10001\n",
      "\n"
     ]
    }
   ],
   "source": [
    "lof = LocalOutlierFactor(n_neighbors=20, contamination=0.002, n_jobs=-1)\n",
    "y_pred = lof.fit_predict(X)\n",
    "\n",
    "# convert label\n",
    "y_pred[y_pred == 1] = 0\n",
    "y_pred[y_pred == -1] = 1\n",
    "\n",
    "print(np.unique(y_pred, return_counts=True))\n",
    "\n",
    "print(metrics.classification_report(y_true=data['Class'], y_pred=y_pred))"
   ]
  },
  {
   "cell_type": "markdown",
   "id": "6f9b300e",
   "metadata": {},
   "source": [
    "# IsolationForest"
   ]
  },
  {
   "cell_type": "code",
   "execution_count": 4,
   "id": "6c926f42",
   "metadata": {},
   "outputs": [
    {
     "name": "stderr",
     "output_type": "stream",
     "text": [
      "C:\\Users\\Mohammad KH\\AppData\\Roaming\\Python\\Python39\\site-packages\\sklearn\\base.py:450: UserWarning: X does not have valid feature names, but IsolationForest was fitted with feature names\n",
      "  warnings.warn(\n"
     ]
    },
    {
     "name": "stdout",
     "output_type": "stream",
     "text": [
      "(array([0, 1]), array([9951,   50], dtype=int64))\n",
      "              precision    recall  f1-score   support\n",
      "\n",
      "           0       1.00      1.00      1.00      9986\n",
      "           1       0.12      0.40      0.18        15\n",
      "\n",
      "    accuracy                           0.99     10001\n",
      "   macro avg       0.56      0.70      0.59     10001\n",
      "weighted avg       1.00      0.99      1.00     10001\n",
      "\n"
     ]
    }
   ],
   "source": [
    "IF = IsolationForest(contamination=0.005)\n",
    "y_pred = IF.fit_predict(X)\n",
    "\n",
    "# convert label\n",
    "y_pred[y_pred == 1] = 0\n",
    "y_pred[y_pred == -1] = 1\n",
    "\n",
    "print(np.unique(y_pred, return_counts=True))\n",
    "\n",
    "print(metrics.classification_report(y_true=data['Class'], y_pred=y_pred))"
   ]
  },
  {
   "cell_type": "markdown",
   "id": "818175a6",
   "metadata": {},
   "source": [
    "# ABOD"
   ]
  },
  {
   "cell_type": "code",
   "execution_count": 5,
   "id": "65c2cf36",
   "metadata": {},
   "outputs": [
    {
     "name": "stderr",
     "output_type": "stream",
     "text": [
      "C:\\Users\\Mohammad KH\\AppData\\Roaming\\Python\\Python39\\site-packages\\sklearn\\utils\\deprecation.py:87: FutureWarning: Function fit_predict is deprecated\n",
      "  warnings.warn(msg, category=FutureWarning)\n"
     ]
    },
    {
     "name": "stdout",
     "output_type": "stream",
     "text": [
      "(array([0, 1]), array([9981,   20], dtype=int64))\n",
      "              precision    recall  f1-score   support\n",
      "\n",
      "           0       1.00      1.00      1.00      9986\n",
      "           1       0.05      0.07      0.06        15\n",
      "\n",
      "    accuracy                           1.00     10001\n",
      "   macro avg       0.52      0.53      0.53     10001\n",
      "weighted avg       1.00      1.00      1.00     10001\n",
      "\n"
     ]
    }
   ],
   "source": [
    "abod_od = abod.ABOD(n_neighbors=20, contamination=0.002)\n",
    "y_pred = abod_od.fit_predict(X)\n",
    "\n",
    "print(np.unique(y_pred, return_counts=True))\n",
    "\n",
    "print(metrics.classification_report(y_true=data['Class'], y_pred=y_pred))"
   ]
  }
 ],
 "metadata": {
  "kernelspec": {
   "display_name": "deep",
   "language": "python",
   "name": "deep_"
  },
  "language_info": {
   "codemirror_mode": {
    "name": "ipython",
    "version": 3
   },
   "file_extension": ".py",
   "mimetype": "text/x-python",
   "name": "python",
   "nbconvert_exporter": "python",
   "pygments_lexer": "ipython3",
   "version": "3.9.7"
  }
 },
 "nbformat": 4,
 "nbformat_minor": 5
}
